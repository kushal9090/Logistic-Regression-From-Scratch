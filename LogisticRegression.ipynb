{
 "cells": [
  {
   "cell_type": "code",
   "execution_count": 1,
   "metadata": {
    "collapsed": true
   },
   "outputs": [],
   "source": [
    "import numpy as np \n",
    "import math\n",
    "import pandas as pd\n",
    "from sklearn import datasets\n",
    "import matplotlib.pyplot as plt \n",
    "import seaborn as sns"
   ]
  },
  {
   "cell_type": "code",
   "execution_count": 2,
   "metadata": {
    "collapsed": true
   },
   "outputs": [],
   "source": [
    "iris = datasets.load_iris()\n",
    "x = iris.data[:100]\n",
    "y = iris.target[:100]\n",
    "y = y.reshape(y.shape[0],1)"
   ]
  },
  {
   "cell_type": "markdown",
   "metadata": {},
   "source": [
    "<h3>The reason for getting only hunder obesrvation from the data set is because we have to perform binomial logistic regression</h3>"
   ]
  },
  {
   "cell_type": "code",
   "execution_count": 3,
   "metadata": {},
   "outputs": [
    {
     "data": {
      "text/plain": [
       "['sepal length (cm)',\n",
       " 'sepal width (cm)',\n",
       " 'petal length (cm)',\n",
       " 'petal width (cm)']"
      ]
     },
     "execution_count": 3,
     "metadata": {},
     "output_type": "execute_result"
    }
   ],
   "source": [
    "iris.feature_names"
   ]
  },
  {
   "cell_type": "code",
   "execution_count": 4,
   "metadata": {},
   "outputs": [
    {
     "data": {
      "text/plain": [
       "array(['setosa', 'versicolor'],\n",
       "      dtype='<U10')"
      ]
     },
     "execution_count": 4,
     "metadata": {},
     "output_type": "execute_result"
    }
   ],
   "source": [
    "iris.target_names[:2]"
   ]
  },
  {
   "cell_type": "markdown",
   "metadata": {},
   "source": [
    "<h5>Data Set Characteristics:<br>\n",
    "    :Number of Instances: 100 (50 in each of two classes)<br>\n",
    "    :Number of Attributes: 4 numeric, predictive attributes and<br> the class<br>\n",
    "    :Attribute Information:<br>\n",
    "        - sepal length in cm\n",
    "        - sepal width in cm\n",
    "        - petal length in cm\n",
    "        - petal width in cm\n",
    "        - class:\n",
    "                - Iris-Setosa (0)\n",
    "                - Iris-Versicolour (1)\n",
    "                "
   ]
  },
  {
   "cell_type": "code",
   "execution_count": 5,
   "metadata": {},
   "outputs": [],
   "source": [
    "x0 = np.ones([x.shape[0] , 1])\n",
    "x =  np.concatenate((x0 , x) , axis = 1)"
   ]
  },
  {
   "cell_type": "code",
   "execution_count": 6,
   "metadata": {},
   "outputs": [
    {
     "name": "stdout",
     "output_type": "stream",
     "text": [
      "[[ 0.  0.  0.  0.  0.]]\n"
     ]
    }
   ],
   "source": [
    "theta = np.zeros([1 , x.shape[1]])\n",
    "print(theta)"
   ]
  },
  {
   "cell_type": "code",
   "execution_count": 7,
   "metadata": {
    "collapsed": true
   },
   "outputs": [],
   "source": [
    "from sklearn.model_selection import train_test_split as tt\n",
    "x_train , x_test , y_train , y_test = tt(x , \n",
    "                                         y , \n",
    "                                         test_size = 0.2 ,\n",
    "                                         random_state = 30)"
   ]
  },
  {
   "cell_type": "markdown",
   "metadata": {},
   "source": [
    "<h3>Logistic Regression</h3>"
   ]
  },
  {
   "cell_type": "code",
   "execution_count": 8,
   "metadata": {
    "collapsed": true
   },
   "outputs": [],
   "source": [
    "def logistic_regression( x , theta):\n",
    "\tz  = x @ (-theta.T)\n",
    "\teulers = np.power(math.e , z)\n",
    "\tpred_y = 1 / (1 + eulers)\n",
    "\n",
    "\tclassified = []\n",
    "\tfor i in pred_y:\n",
    "\t\tif i >= 0.5:\n",
    "\t\t\tclassified.append(1)\n",
    "\t\telse:\n",
    "\t\t\tclassified.append(0)\n",
    "\n",
    "\treturn pred_y , classified"
   ]
  },
  {
   "cell_type": "markdown",
   "metadata": {},
   "source": [
    "<h2>Cost Function</h2>"
   ]
  },
  {
   "cell_type": "code",
   "execution_count": 9,
   "metadata": {
    "collapsed": true
   },
   "outputs": [],
   "source": [
    "def costFunction(x,y,theta):\n",
    "    z = x @ (-theta.T)\n",
    "    euler = np.power(math.e , z)\n",
    "    pred_y = 1/(1 + euler)\n",
    "    \n",
    "    costF = ( (-y* (np.log(pred_y)) ) - (1-y)* (np.log(1-pred_y)) )\n",
    "    \n",
    "    return sum(costF)/len(x)"
   ]
  },
  {
   "cell_type": "markdown",
   "metadata": {},
   "source": [
    "<h2>Gradient Descent</h2>"
   ]
  },
  {
   "cell_type": "code",
   "execution_count": 10,
   "metadata": {
    "collapsed": true
   },
   "outputs": [],
   "source": [
    "def gradientDescent(x , y , theta , alpha , iterations):\n",
    "    cost = np.zeros(iterations)\n",
    "    for i in range(iterations):\n",
    "        z = x @ (-theta.T)\n",
    "        eulers = np.power(math.e , z)\n",
    "        pred_y = 1/(1+eulers)\n",
    "    \n",
    "        partialDerivativeoftheta = (1/len(x))* (sum((pred_y - y)*x))\n",
    "        \n",
    "        theta = theta - (alpha*partialDerivativeoftheta)\n",
    "        cost[i] = costFunction(x,y,theta)\n",
    "        \n",
    "    return theta , cost"
   ]
  },
  {
   "cell_type": "code",
   "execution_count": 11,
   "metadata": {
    "collapsed": true
   },
   "outputs": [],
   "source": [
    "alpha = 0.01\n",
    "iterations = 10000"
   ]
  },
  {
   "cell_type": "code",
   "execution_count": 12,
   "metadata": {},
   "outputs": [
    {
     "name": "stdout",
     "output_type": "stream",
     "text": [
      "[[-0.34412577 -0.56096477 -1.99763575  3.07766671  1.36401722]]\n"
     ]
    }
   ],
   "source": [
    "coef , new_cost = gradientDescent(x_train , y_train , theta , alpha , iterations)\n",
    "print(coef)"
   ]
  },
  {
   "cell_type": "code",
   "execution_count": 13,
   "metadata": {},
   "outputs": [
    {
     "data": {
      "image/png": "[encoded data removed]",
      "text/plain": [
       "<matplotlib.figure.Figure at 0x1a88ec5fd68>"
      ]
     },
     "metadata": {},
     "output_type": "display_data"
    }
   ],
   "source": [
    "plt.plot(np.arange(iterations), new_cost, 'r')  \n",
    "plt.xlabel('Iterations')  \n",
    "plt.ylabel('Costs')  \n",
    "plt.title('Error(cost function) vs. Training iteration')\n",
    "plt.show()"
   ]
  },
  {
   "cell_type": "markdown",
   "metadata": {},
   "source": [
    "<h5>From the above plot we can infer that gradient descent is working properly as the cost is decreasing every iteration.</h5>"
   ]
  },
  {
   "cell_type": "code",
   "execution_count": 14,
   "metadata": {
    "collapsed": true
   },
   "outputs": [],
   "source": [
    "pred_y , classified = logistic_regression(x_test , coef)"
   ]
  },
  {
   "cell_type": "code",
   "execution_count": 15,
   "metadata": {},
   "outputs": [
    {
     "name": "stdout",
     "output_type": "stream",
     "text": [
      "confusion matrix\n",
      "[[ 9  0]\n",
      " [ 0 11]]\n",
      "\n",
      " \n",
      "report\n",
      "             precision    recall  f1-score   support\n",
      "\n",
      "          0       1.00      1.00      1.00         9\n",
      "          1       1.00      1.00      1.00        11\n",
      "\n",
      "avg / total       1.00      1.00      1.00        20\n",
      "\n"
     ]
    }
   ],
   "source": [
    "from sklearn.metrics import confusion_matrix , classification_report \n",
    "print(\"confusion matrix\")\n",
    "print(confusion_matrix(y_test , classified))\n",
    "print(\"\\n \\nreport\")\n",
    "print(classification_report(y_test , classified))"
   ]
  }
 ],
 "metadata": {
  "kernelspec": {
   "display_name": "Python 3",
   "language": "python",
   "name": "python3"
  },
  "language_info": {
   "codemirror_mode": {
    "name": "ipython",
    "version": 3
   },
   "file_extension": ".py",
   "mimetype": "text/x-python",
   "name": "python",
   "nbconvert_exporter": "python",
   "pygments_lexer": "ipython3",
   "version": "3.6.2"
  }
 },
 "nbformat": 4,
 "nbformat_minor": 2
}
